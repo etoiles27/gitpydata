{
 "cells": [
  {
   "cell_type": "code",
   "execution_count": 21,
   "metadata": {},
   "outputs": [
    {
     "name": "stdout",
     "output_type": "stream",
     "text": [
      "(25000,) (25000,)\n",
      "[1, 14, 22, 16, 43, 2, 2, 2, 2, 65, 458, 2, 66, 2, 4, 173, 36, 256, 5, 25, 100, 43, 2, 112, 50, 2, 2, 9, 35, 480, 284, 5, 150, 4, 172, 112, 167, 2, 336, 385, 39, 4, 172, 2, 2, 17, 2, 38, 13, 447, 4, 192, 50, 16, 6, 147, 2, 19, 14, 22, 4, 2, 2, 469, 4, 22, 71, 87, 12, 16, 43, 2, 38, 76, 15, 13, 2, 4, 22, 17, 2, 17, 12, 16, 2, 18, 2, 5, 62, 386, 12, 8, 316, 8, 106, 5, 4, 2, 2, 16, 480, 66, 2, 33, 4, 130, 12, 16, 38, 2, 5, 25, 124, 51, 36, 135, 48, 25, 2, 33, 6, 22, 12, 215, 28, 77, 52, 5, 14, 407, 16, 82, 2, 8, 4, 107, 117, 2, 15, 256, 4, 2, 7, 2, 5, 2, 36, 71, 43, 2, 476, 26, 400, 317, 46, 7, 4, 2, 2, 13, 104, 88, 4, 381, 15, 297, 98, 32, 2, 56, 26, 141, 6, 194, 2, 18, 4, 226, 22, 21, 134, 476, 26, 480, 5, 144, 30, 2, 18, 51, 36, 28, 224, 92, 25, 104, 4, 226, 65, 16, 38, 2, 88, 12, 16, 283, 5, 16, 2, 113, 103, 32, 15, 16, 2, 19, 178, 32]\n",
      "218\n",
      "[1 0 0 ... 0 1 0]\n",
      "[0 1]\n"
     ]
    }
   ],
   "source": [
    "import numpy as np\n",
    "import pandas as pd\n",
    "import matplotlib.pyplot as plt\n",
    "import matplotlib\n",
    "from sklearn.model_selection import train_test_split \n",
    "from tensorflow import keras\n",
    "from tensorflow.keras.datasets import imdb\n",
    "from tensorflow.keras.preprocessing.sequence import pad_sequences\n",
    "\n",
    "matplotlib.rcParams['axes.unicode_minus']=False\n",
    "\n",
    "(train_data, train_label),(test_data, test_label) = imdb.load_data(num_words=500)\n",
    "\n",
    "print(train_data.shape, test_data.shape)\n",
    "print(train_data[0])\n",
    "print(len(train_data[0]))\n",
    "print(train_label)\n",
    "print(np.unique(train_label))"
   ]
  },
  {
   "cell_type": "code",
   "execution_count": 22,
   "metadata": {},
   "outputs": [],
   "source": [
    "sub_data, val_data, sub_label, val_label = train_test_split(train_data, train_label, random_state=42)\n",
    "train_seq = pad_sequences(sub_data, maxlen=100)\n",
    "test_seq = pad_sequences(val_data, maxlen=100)"
   ]
  },
  {
   "cell_type": "code",
   "execution_count": 23,
   "metadata": {},
   "outputs": [
    {
     "name": "stdout",
     "output_type": "stream",
     "text": [
      "568\n",
      "1015\n",
      "640\n",
      "100\n",
      "100\n",
      "100\n",
      "[  0   0   0   0   0   0   0   0   0   0   0   0   0   0   0   0   0   1\n",
      "  13 115 219  14  20 366  13   2   4   2 236 291  13  16   2   5   2  12\n",
      "  47  32   4   2   7  51  13 119   8  67  11   6   2   2  65  11   6 274\n",
      "  42  23   4 268 225   2   2   2   5   6  52  65  10  10 225 142   2   5\n",
      "   2 149   6   2   2   7   4   2   2   7   4   2   5   2  10  10  13 104\n",
      "  45   6 215  67   5  24  64  18   2   2]\n"
     ]
    }
   ],
   "source": [
    "print(len(sub_data[0]))\n",
    "print(len(sub_data[5]))\n",
    "print(len(sub_data[100]))\n",
    "print(len(train_seq[0]))\n",
    "print(len(train_seq[5]))\n",
    "print(len(train_seq[100]))\n",
    "print((train_seq[1]))\n"
   ]
  },
  {
   "cell_type": "code",
   "execution_count": 24,
   "metadata": {},
   "outputs": [
    {
     "name": "stdout",
     "output_type": "stream",
     "text": [
      "[0. 0. 1. 0. 0. 0. 0. 0. 0. 0. 0. 0.]\n"
     ]
    }
   ],
   "source": [
    "train_oh = keras.utils.to_categorical(train_seq)\n",
    "test_oh = keras.utils.to_categorical(test_seq)\n",
    "print(train_oh[0][0][:12])"
   ]
  },
  {
   "cell_type": "code",
   "execution_count": 25,
   "metadata": {},
   "outputs": [
    {
     "name": "stdout",
     "output_type": "stream",
     "text": [
      "1.0\n"
     ]
    }
   ],
   "source": [
    "print(np.sum(train_oh[0][0]))"
   ]
  },
  {
   "cell_type": "code",
   "execution_count": 27,
   "metadata": {},
   "outputs": [
    {
     "name": "stdout",
     "output_type": "stream",
     "text": [
      "Model: \"sequential_1\"\n",
      "_________________________________________________________________\n",
      " Layer (type)                Output Shape              Param #   \n",
      "=================================================================\n",
      " simple_rnn_1 (SimpleRNN)    (None, 8)                 4072      \n",
      "                                                                 \n",
      " dense_1 (Dense)             (None, 1)                 9         \n",
      "                                                                 \n",
      "=================================================================\n",
      "Total params: 4,081\n",
      "Trainable params: 4,081\n",
      "Non-trainable params: 0\n",
      "_________________________________________________________________\n"
     ]
    }
   ],
   "source": [
    "\n",
    "\n",
    "# 4. 딥러닝 선언 \n",
    "model = keras.Sequential()\n",
    "model.add(keras.layers.SimpleRNN(8, input_shape=(100,500)))\n",
    "model.add(keras.layers.Dense(1,activation='sigmoid'))\n",
    "model.summary()\n",
    "# 5. 딥러닝 훈련 \n",
    "rmsprop = keras.optimizers.RMSprop(learning_rate=1e-4)\n",
    "# model.compile(optimizer=rmsprop, loss='binary_crossentropy', metrics='accuracy')\n",
    "model.compile(optimizer='adam', loss='binary_crossentropy', metrics='accuracy')"
   ]
  },
  {
   "cell_type": "code",
   "execution_count": 28,
   "metadata": {},
   "outputs": [
    {
     "name": "stdout",
     "output_type": "stream",
     "text": [
      "Epoch 1/100\n",
      "293/293 [==============================] - 5s 15ms/step - loss: 0.6930 - accuracy: 0.5167 - val_loss: 0.6901 - val_accuracy: 0.5384\n",
      "Epoch 2/100\n",
      "293/293 [==============================] - 4s 15ms/step - loss: 0.6830 - accuracy: 0.5619 - val_loss: 0.6861 - val_accuracy: 0.5477\n",
      "Epoch 3/100\n",
      "293/293 [==============================] - 4s 15ms/step - loss: 0.6709 - accuracy: 0.5933 - val_loss: 0.6827 - val_accuracy: 0.5501\n",
      "Epoch 4/100\n",
      "293/293 [==============================] - 4s 15ms/step - loss: 0.6564 - accuracy: 0.6135 - val_loss: 0.6803 - val_accuracy: 0.5557\n",
      "Epoch 5/100\n",
      "293/293 [==============================] - 4s 15ms/step - loss: 0.6400 - accuracy: 0.6334 - val_loss: 0.6803 - val_accuracy: 0.5614\n",
      "Epoch 6/100\n",
      "293/293 [==============================] - 4s 15ms/step - loss: 0.6221 - accuracy: 0.6542 - val_loss: 0.6855 - val_accuracy: 0.5707\n",
      "Epoch 7/100\n",
      "293/293 [==============================] - 4s 15ms/step - loss: 0.6064 - accuracy: 0.6731 - val_loss: 0.6983 - val_accuracy: 0.5622\n",
      "6\n",
      "196/196 [==============================] - 1s 5ms/step - loss: 0.6803 - accuracy: 0.5557\n"
     ]
    },
    {
     "data": {
      "image/png": "[encoded data removed]",
      "text/plain": [
       "<Figure size 432x288 with 1 Axes>"
      ]
     },
     "metadata": {
      "needs_background": "light"
     },
     "output_type": "display_data"
    }
   ],
   "source": [
    "\n",
    "# 콜백 \n",
    "checkpoint_cb = keras.callbacks.ModelCheckpoint('best-model.h5')\n",
    "early_stopping_cb =  keras.callbacks.EarlyStopping(patience=3, restore_best_weights=True)\n",
    "\n",
    "\n",
    "# history = model.fit(train_data,train_label, epochs=20)\n",
    "history = model.fit(train_oh,sub_label, epochs=100, batch_size=64,validation_data=(test_oh, val_label), callbacks=[checkpoint_cb, early_stopping_cb])\n",
    "\n",
    "print(early_stopping_cb.stopped_epoch)\n",
    "\n",
    "\n",
    "\n",
    "score = model.evaluate(test_oh, val_label)\n",
    "\n",
    "plt.plot(history.history['loss'])\n",
    "plt.plot(history.history['val_loss'])\n",
    "plt.legend(['sub','val'])\n",
    "plt.show()\n",
    "\n"
   ]
  },
  {
   "cell_type": "code",
   "execution_count": 29,
   "metadata": {},
   "outputs": [
    {
     "data": {
      "text/plain": [
       "[0.6802907586097717, 0.555679976940155]"
      ]
     },
     "execution_count": 29,
     "metadata": {},
     "output_type": "execute_result"
    }
   ],
   "source": [
    "score"
   ]
  }
 ],
 "metadata": {
  "kernelspec": {
   "display_name": "Python 3.10.2 64-bit",
   "language": "python",
   "name": "python3"
  },
  "language_info": {
   "codemirror_mode": {
    "name": "ipython",
    "version": 3
   },
   "file_extension": ".py",
   "mimetype": "text/x-python",
   "name": "python",
   "nbconvert_exporter": "python",
   "pygments_lexer": "ipython3",
   "version": "3.10.2"
  },
  "orig_nbformat": 4,
  "vscode": {
   "interpreter": {
    "hash": "369f2c481f4da34e4445cda3fffd2e751bd1c4d706f27375911949ba6bb62e1c"
   }
  }
 },
 "nbformat": 4,
 "nbformat_minor": 2
}
