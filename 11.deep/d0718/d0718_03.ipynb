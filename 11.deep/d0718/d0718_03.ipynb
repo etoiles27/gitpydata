{
 "cells": [
  {
   "cell_type": "code",
   "execution_count": 14,
   "metadata": {},
   "outputs": [],
   "source": [
    "import numpy as np\n",
    "import pandas as pd\n",
    "from konlpy.tag import Okt\n",
    "from gensim.models import Word2Vec\n",
    "\n",
    "# konlpy 선언\n",
    "okt = Okt()\n",
    "\n",
    "f = open('./11.deep/d0715/book.txt', encoding='utf-8')\n",
    "book = f.read()\n",
    "# print(book)\n",
    "lines = book.split('\\n')\n",
    "\n",
    "\n",
    "tokenized_data = []\n",
    "stopwords=['의','가','이','은','들','는','좀','잘','걍','과','도','를','으로','자','에','와','한','하다']\n",
    "\n",
    "for sent in lines:\n",
    "    temp_x = okt.morphs(sent, stem=True)\n",
    "    temp_x = [word for word in temp_x if not word in stopwords]\n",
    "    tokenized_data.append(temp_x)\n",
    "    \n",
    "\n"
   ]
  },
  {
   "cell_type": "code",
   "execution_count": 15,
   "metadata": {},
   "outputs": [],
   "source": [
    "model = Word2Vec(sentences=tokenized_data,vector_size=100, window=5,min_count=5,workers=4, sg=0)\n"
   ]
  },
  {
   "cell_type": "code",
   "execution_count": 16,
   "metadata": {},
   "outputs": [
    {
     "name": "stdout",
     "output_type": "stream",
     "text": [
      "[('이다', 0.9996600151062012), ('받다', 0.9996584057807922), ('아주', 0.9996374845504761), ('남자', 0.999631404876709), ('위', 0.9996258020401001), ('에서', 0.9996216893196106), ('그건', 0.9996187686920166), ('때문', 0.9996160864830017), ('함께', 0.9996153116226196), ('되다', 0.9996084570884705)]\n"
     ]
    }
   ],
   "source": [
    "print(model.wv.most_similar(positive=['여자']))"
   ]
  },
  {
   "cell_type": "code",
   "execution_count": 17,
   "metadata": {},
   "outputs": [
    {
     "name": "stdout",
     "output_type": "stream",
     "text": [
      "[('되다', 0.9997081756591797), ('그건', 0.9996783137321472), ('그리고', 0.9996712803840637), ('함께', 0.9996652007102966), ('때문', 0.9996649026870728), ('걸', 0.9996407628059387), ('이다', 0.9996400475502014), ('받다', 0.9996376633644104), ('자신', 0.9996368885040283), ('다', 0.9996358752250671)]\n"
     ]
    }
   ],
   "source": [
    "print(model.wv.most_similar(positive=['남자']))"
   ]
  },
  {
   "cell_type": "code",
   "execution_count": 19,
   "metadata": {},
   "outputs": [
    {
     "name": "stdout",
     "output_type": "stream",
     "text": [
      "[('보내다', 0.994554340839386), ('몸', 0.9944835901260376), ('되다', 0.9944666624069214), ('!', 0.9944663047790527), ('버리다', 0.9944288730621338), ('보다', 0.9944170713424683), ('인', 0.9944015145301819), ('위', 0.9943910241127014), ('강하다', 0.9943723082542419), ('다시', 0.9943531155586243)]\n"
     ]
    }
   ],
   "source": [
    "print(model.wv.most_similar(positive=['여자','결혼'],negative=['아빠']))"
   ]
  }
 ],
 "metadata": {
  "kernelspec": {
   "display_name": "Python 3.10.2 64-bit",
   "language": "python",
   "name": "python3"
  },
  "language_info": {
   "codemirror_mode": {
    "name": "ipython",
    "version": 3
   },
   "file_extension": ".py",
   "mimetype": "text/x-python",
   "name": "python",
   "nbconvert_exporter": "python",
   "pygments_lexer": "ipython3",
   "version": "3.10.2"
  },
  "orig_nbformat": 4,
  "vscode": {
   "interpreter": {
    "hash": "369f2c481f4da34e4445cda3fffd2e751bd1c4d706f27375911949ba6bb62e1c"
   }
  }
 },
 "nbformat": 4,
 "nbformat_minor": 2
}
