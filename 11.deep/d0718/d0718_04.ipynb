{
 "cells": [
  {
   "cell_type": "code",
   "execution_count": 1,
   "metadata": {},
   "outputs": [],
   "source": [
    "import numpy as np\n",
    "import pandas as pd\n",
    "from konlpy.tag import Okt\n",
    "from bs4 import BeautifulSoup\n",
    "import codecs"
   ]
  },
  {
   "cell_type": "code",
   "execution_count": 2,
   "metadata": {},
   "outputs": [],
   "source": [
    "# 토지 책 불러오기 \n",
    "fp = codecs.open('./11.deep/d0715/BEXX0003.txt', 'r',encoding='utf-16')\n",
    "soup = BeautifulSoup(fp,'html.parser')\n",
    "body = soup.find(\"body\").find(\"text\").get_text()"
   ]
  },
  {
   "cell_type": "code",
   "execution_count": 14,
   "metadata": {},
   "outputs": [],
   "source": [
    "lines = body.split(\"\\n\")\n",
    "\n",
    "# 형태소 분석 \n",
    "okt = Okt()\n",
    "word_dict ={}\n",
    "\n",
    "for line in lines:\n",
    "    malist = okt.nouns(line)\n",
    "    for word in malist:\n",
    "        if (len(word)>1):\n",
    "            if not (word in word_dict):\n",
    "                word_dict[word] = 0\n",
    "            word_dict[word] += 1\n",
    "\n",
    "\n"
   ]
  },
  {
   "cell_type": "code",
   "execution_count": 15,
   "metadata": {},
   "outputs": [
    {
     "name": "stdout",
     "output_type": "stream",
     "text": [
      "소리:196  용이:193  사람:167  치수:160  평산:160  얼굴:156  생각:141  강청댁:137  서방:131  서희:119  어디:112  마을:111  칠성:97  구천이:96  아이:88  하나:84  참판:82  월선:78  순이:76  바람:72  윤보:72  양반:71  보고:69  간난할멈:69  마는:69  준구:67  다시:66  구마:66  마음:64  그것:64  자식:64  기이:62  윤씨:61  애기:59  서울:59  모양:58  무슨:58  머리:57  세상:56  우리:56  여자:56  아씨:55  삼월:54  사랑:52  마당:51  상이:50  목소리:49  포수:49  마님:47  돌이:46  "
     ]
    }
   ],
   "source": [
    "keys = sorted(word_dict.items(),key=lambda x: x[1],reverse=True)\n",
    "for word, count in keys[:50]:\n",
    "    print('{}:{}'.format(word,count),end='  ')"
   ]
  },
  {
   "cell_type": "code",
   "execution_count": 16,
   "metadata": {},
   "outputs": [],
   "source": [
    "tokenized_data = []\n",
    "stopwords=['의','가','이','은','들','는','좀','잘','걍','과','도','를','으로','자','에','와','한','하다']\n",
    "\n",
    "for sent in lines:\n",
    "    temp_x = okt.morphs(sent, stem=True)\n",
    "    temp_x = [word for word in temp_x if not word in stopwords]\n",
    "    tokenized_data.append(temp_x)"
   ]
  },
  {
   "cell_type": "code",
   "execution_count": 17,
   "metadata": {},
   "outputs": [],
   "source": [
    "from gensim.models import Word2Vec\n",
    "model = Word2Vec(sentences=tokenized_data,vector_size=100, window=5,min_count=5,workers=4, sg=0)"
   ]
  },
  {
   "cell_type": "code",
   "execution_count": 20,
   "metadata": {},
   "outputs": [
    {
     "name": "stdout",
     "output_type": "stream",
     "text": [
      "[('로', 0.9997753500938416), ('칠성', 0.999752402305603), ('바람', 0.9997276067733765), ('같이', 0.9997103810310364), ('게', 0.9997063279151917), ('에는', 0.9996984601020813), ('머리', 0.9996970295906067), ('주다', 0.9996969699859619), ('속', 0.9996941685676575), ('위', 0.9996857643127441)]\n"
     ]
    }
   ],
   "source": [
    "print(model.wv.most_similar('때'))"
   ]
  }
 ],
 "metadata": {
  "kernelspec": {
   "display_name": "Python 3.10.2 64-bit",
   "language": "python",
   "name": "python3"
  },
  "language_info": {
   "codemirror_mode": {
    "name": "ipython",
    "version": 3
   },
   "file_extension": ".py",
   "mimetype": "text/x-python",
   "name": "python",
   "nbconvert_exporter": "python",
   "pygments_lexer": "ipython3",
   "version": "3.10.2"
  },
  "orig_nbformat": 4,
  "vscode": {
   "interpreter": {
    "hash": "369f2c481f4da34e4445cda3fffd2e751bd1c4d706f27375911949ba6bb62e1c"
   }
  }
 },
 "nbformat": 4,
 "nbformat_minor": 2
}
