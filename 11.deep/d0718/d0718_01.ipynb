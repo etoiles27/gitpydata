{
 "cells": [
  {
   "cell_type": "code",
   "execution_count": 34,
   "metadata": {},
   "outputs": [],
   "source": [
    "import numpy as np\n",
    "import pandas as pd\n",
    "import matplotlib.pyplot as plt\n",
    "from sklearn.model_selection import train_test_split \n",
    "from tensorflow import keras\n"
   ]
  },
  {
   "cell_type": "code",
   "execution_count": 35,
   "metadata": {},
   "outputs": [],
   "source": [
    "(train_data, train_label), (test_data, test_label) = keras.datasets.fashion_mnist.load_data()"
   ]
  },
  {
   "cell_type": "code",
   "execution_count": 36,
   "metadata": {},
   "outputs": [
    {
     "name": "stdout",
     "output_type": "stream",
     "text": [
      "[0 1 2 3 4 5 6 7 8 9]\n"
     ]
    }
   ],
   "source": [
    "type(train_data)\n",
    "train_data[:10]\n",
    "train_data.shape\n",
    "np.max(train_data[1])\n",
    "print(np.unique(train_label))"
   ]
  },
  {
   "cell_type": "code",
   "execution_count": 37,
   "metadata": {},
   "outputs": [],
   "source": [
    "# 표준화 정규화작업\n",
    "train_data = train_data/255.0\n",
    "test_data = test_data/255.0\n",
    "train_scaled, test_scaled, train_label, test_label = train_test_split(train_data, train_label)"
   ]
  },
  {
   "cell_type": "code",
   "execution_count": 38,
   "metadata": {},
   "outputs": [],
   "source": [
    "model = keras.Sequential()\n",
    "model.add(keras.layers.Flatten(input_shape=(28,28)))\n",
    "model.add(keras.layers.Dense(100, activation='relu'))\n",
    "# model.add(keras.layers.Dropout(0.3))  # 뉴런의 개수를 30% 삭제 \n",
    "model.add(keras.layers.Dense(10, activation='softmax'))"
   ]
  },
  {
   "cell_type": "code",
   "execution_count": 39,
   "metadata": {},
   "outputs": [],
   "source": [
    "# 딥러닝 설정 \n",
    "model.compile(optimizer='adam', loss='sparse_categorical_crossentropy', metrics='accuracy')"
   ]
  },
  {
   "cell_type": "code",
   "execution_count": 40,
   "metadata": {},
   "outputs": [],
   "source": [
    "# 콜백 \n",
    "checkpoint_cb = keras.callbacks.ModelCheckpoint('best-model.h5')\n",
    "early_stopping_cb =  keras.callbacks.EarlyStopping(patience=3, restore_best_weights=True)"
   ]
  },
  {
   "cell_type": "code",
   "execution_count": 41,
   "metadata": {},
   "outputs": [
    {
     "name": "stdout",
     "output_type": "stream",
     "text": [
      "Epoch 1/20\n",
      "1407/1407 [==============================] - 2s 1ms/step - loss: 0.5270 - accuracy: 0.8170 - val_loss: 0.4240 - val_accuracy: 0.8515\n",
      "Epoch 2/20\n",
      "1407/1407 [==============================] - 2s 1ms/step - loss: 0.3996 - accuracy: 0.8572 - val_loss: 0.3934 - val_accuracy: 0.8600\n",
      "Epoch 3/20\n",
      "1407/1407 [==============================] - 2s 1ms/step - loss: 0.3591 - accuracy: 0.8712 - val_loss: 0.3667 - val_accuracy: 0.8691\n",
      "Epoch 4/20\n",
      "1407/1407 [==============================] - 2s 1ms/step - loss: 0.3292 - accuracy: 0.8808 - val_loss: 0.3753 - val_accuracy: 0.8604\n",
      "Epoch 5/20\n",
      "1407/1407 [==============================] - 2s 1ms/step - loss: 0.3109 - accuracy: 0.8872 - val_loss: 0.3439 - val_accuracy: 0.8725\n",
      "Epoch 6/20\n",
      "1407/1407 [==============================] - 2s 1ms/step - loss: 0.2961 - accuracy: 0.8904 - val_loss: 0.3327 - val_accuracy: 0.8791\n",
      "Epoch 7/20\n",
      "1407/1407 [==============================] - 2s 1ms/step - loss: 0.2816 - accuracy: 0.8955 - val_loss: 0.3241 - val_accuracy: 0.8793\n",
      "Epoch 8/20\n",
      "1407/1407 [==============================] - 2s 1ms/step - loss: 0.2690 - accuracy: 0.9007 - val_loss: 0.3340 - val_accuracy: 0.8759\n",
      "Epoch 9/20\n",
      "1407/1407 [==============================] - 2s 1ms/step - loss: 0.2624 - accuracy: 0.9033 - val_loss: 0.3201 - val_accuracy: 0.8834\n",
      "Epoch 10/20\n",
      "1407/1407 [==============================] - 2s 1ms/step - loss: 0.2523 - accuracy: 0.9075 - val_loss: 0.3076 - val_accuracy: 0.8881\n",
      "Epoch 11/20\n",
      "1407/1407 [==============================] - 2s 1ms/step - loss: 0.2430 - accuracy: 0.9108 - val_loss: 0.3283 - val_accuracy: 0.8840\n",
      "Epoch 12/20\n",
      "1407/1407 [==============================] - 2s 1ms/step - loss: 0.2364 - accuracy: 0.9120 - val_loss: 0.3057 - val_accuracy: 0.8908\n",
      "Epoch 13/20\n",
      "1407/1407 [==============================] - 2s 1ms/step - loss: 0.2268 - accuracy: 0.9158 - val_loss: 0.3248 - val_accuracy: 0.8827\n",
      "Epoch 14/20\n",
      "1407/1407 [==============================] - 2s 1ms/step - loss: 0.2201 - accuracy: 0.9182 - val_loss: 0.3202 - val_accuracy: 0.8889\n",
      "Epoch 15/20\n",
      "1407/1407 [==============================] - 2s 1ms/step - loss: 0.2129 - accuracy: 0.9212 - val_loss: 0.3130 - val_accuracy: 0.8881\n",
      "Epoch 16/20\n",
      "1407/1407 [==============================] - 2s 1ms/step - loss: 0.2065 - accuracy: 0.9236 - val_loss: 0.3244 - val_accuracy: 0.8868\n",
      "Epoch 17/20\n",
      "1407/1407 [==============================] - 2s 1ms/step - loss: 0.2032 - accuracy: 0.9238 - val_loss: 0.3205 - val_accuracy: 0.8880\n",
      "Epoch 18/20\n",
      "1407/1407 [==============================] - 2s 1ms/step - loss: 0.1960 - accuracy: 0.9269 - val_loss: 0.3643 - val_accuracy: 0.8710\n",
      "Epoch 19/20\n",
      "1407/1407 [==============================] - 2s 1ms/step - loss: 0.1907 - accuracy: 0.9290 - val_loss: 0.3259 - val_accuracy: 0.8887\n",
      "Epoch 20/20\n",
      "1407/1407 [==============================] - 2s 1ms/step - loss: 0.1835 - accuracy: 0.9311 - val_loss: 0.3425 - val_accuracy: 0.8879\n"
     ]
    }
   ],
   "source": [
    "# history = model.fit(train_scaled, train_label, epochs=20, validation_data=(test_scaled, test_label), callbacks=[checkpoint_cb, early_stopping_cb])\n",
    "history = model.fit(train_scaled, train_label, epochs=20, validation_data=(test_scaled, test_label))"
   ]
  },
  {
   "cell_type": "code",
   "execution_count": 42,
   "metadata": {},
   "outputs": [
    {
     "name": "stdout",
     "output_type": "stream",
     "text": [
      "469/469 [==============================] - 0s 830us/step - loss: 0.3425 - accuracy: 0.8879\n"
     ]
    },
    {
     "data": {
      "text/plain": [
       "[0.3424971401691437, 0.8879333138465881]"
      ]
     },
     "execution_count": 42,
     "metadata": {},
     "output_type": "execute_result"
    }
   ],
   "source": [
    "# 정확도 \n",
    "score = model.evaluate(test_scaled, test_label)\n",
    "score"
   ]
  },
  {
   "cell_type": "code",
   "execution_count": 43,
   "metadata": {},
   "outputs": [
    {
     "data": {
      "text/plain": [
       "dict_keys(['loss', 'accuracy', 'val_loss', 'val_accuracy'])"
      ]
     },
     "execution_count": 43,
     "metadata": {},
     "output_type": "execute_result"
    }
   ],
   "source": [
    "history.history.keys()"
   ]
  },
  {
   "cell_type": "code",
   "execution_count": 44,
   "metadata": {},
   "outputs": [
    {
     "data": {
      "image/png": "[encoded data removed]",
      "text/plain": [
       "<Figure size 432x288 with 1 Axes>"
      ]
     },
     "metadata": {
      "needs_background": "light"
     },
     "output_type": "display_data"
    }
   ],
   "source": [
    "plt.plot(history.history['loss'])\n",
    "plt.plot(history.history['val_loss'])\n",
    "plt.show()"
   ]
  },
  {
   "cell_type": "code",
   "execution_count": 45,
   "metadata": {},
   "outputs": [
    {
     "data": {
      "image/png": "[encoded data removed]",
      "text/plain": [
       "<Figure size 432x288 with 1 Axes>"
      ]
     },
     "metadata": {
      "needs_background": "light"
     },
     "output_type": "display_data"
    }
   ],
   "source": [
    "plt.plot(history.history['accuracy'])\n",
    "plt.plot(history.history['val_accuracy'])\n",
    "plt.show()"
   ]
  }
 ],
 "metadata": {
  "kernelspec": {
   "display_name": "Python 3.10.2 64-bit",
   "language": "python",
   "name": "python3"
  },
  "language_info": {
   "codemirror_mode": {
    "name": "ipython",
    "version": 3
   },
   "file_extension": ".py",
   "mimetype": "text/x-python",
   "name": "python",
   "nbconvert_exporter": "python",
   "pygments_lexer": "ipython3",
   "version": "3.10.2"
  },
  "orig_nbformat": 4,
  "vscode": {
   "interpreter": {
    "hash": "369f2c481f4da34e4445cda3fffd2e751bd1c4d706f27375911949ba6bb62e1c"
   }
  }
 },
 "nbformat": 4,
 "nbformat_minor": 2
}
