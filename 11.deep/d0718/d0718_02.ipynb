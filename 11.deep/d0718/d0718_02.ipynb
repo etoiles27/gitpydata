{
 "cells": [
  {
   "cell_type": "code",
   "execution_count": 1,
   "metadata": {},
   "outputs": [
    {
     "name": "stdout",
     "output_type": "stream",
     "text": [
      "<class 'pandas.core.frame.DataFrame'>\n",
      "RangeIndex: 200000 entries, 0 to 199999\n",
      "Data columns (total 3 columns):\n",
      " #   Column    Non-Null Count   Dtype \n",
      "---  ------    --------------   ----- \n",
      " 0   id        200000 non-null  int64 \n",
      " 1   document  199992 non-null  object\n",
      " 2   label     200000 non-null  int64 \n",
      "dtypes: int64(2), object(1)\n",
      "memory usage: 4.6+ MB\n",
      "None\n",
      "                 id          label\n",
      "count  2.000000e+05  200000.000000\n",
      "mean   6.739774e+06       0.500000\n",
      "std    2.923504e+06       0.500001\n",
      "min    3.300000e+01       0.000000\n",
      "25%    4.760678e+06       0.000000\n",
      "50%    7.527726e+06       0.500000\n",
      "75%    9.248413e+06       1.000000\n",
      "max    1.027815e+07       1.000000\n",
      "<class 'pandas.core.frame.DataFrame'>\n",
      "Int64Index: 199992 entries, 0 to 199999\n",
      "Data columns (total 3 columns):\n",
      " #   Column    Non-Null Count   Dtype \n",
      "---  ------    --------------   ----- \n",
      " 0   id        199992 non-null  int64 \n",
      " 1   document  199992 non-null  object\n",
      " 2   label     199992 non-null  int64 \n",
      "dtypes: int64(2), object(1)\n",
      "memory usage: 6.1+ MB\n",
      "None\n",
      "         id                                           document  label\n",
      "0   8112052                                  어릴때보고지금다시봐도재밌어요ㅋㅋ      1\n",
      "1   8132799  디자인을배우는학생으로외국디자이너와그들이일군전통을통해발전해가는문화산업이부러웠는데사실우...      1\n",
      "2   4655635                          폴리스스토리시리즈는부터뉴까지버릴께하나도없음최고      1\n",
      "3   9251303              와연기가진짜개쩔구나지루할거라고생각했는데몰입해서봤다그래이런게진짜영화지      1\n",
      "4  10067386                                안개자욱한밤하늘에떠있는초승달같은영화      1\n"
     ]
    }
   ],
   "source": [
    "import numpy as np\n",
    "import pandas as pd\n",
    "import matplotlib.pyplot as plt\n",
    "from sklearn.model_selection import train_test_split \n",
    "from tensorflow import keras\n",
    "from konlpy.tag import Okt\n",
    "import urllib.request\n",
    "from gensim.models import word2vec\n",
    "from gensim.models import Word2Vec\n",
    "\n",
    "\n",
    "urllib.request.urlretrieve('https://raw.githubusercontent.com/e9t/nsmc/master/ratings.txt', filename='ratings.txt')\n",
    "train_data = pd.read_table('ratings.txt')\n",
    "print(train_data.info())\n",
    "print(train_data.describe())\n",
    "\n",
    "train_data = train_data.dropna(how='any')\n",
    "print(train_data.info())\n",
    "\n",
    "# 한글 외 모든글자 삭제 \n",
    "train_data['document'] = train_data['document'].str.replace(\"[^ㄱ-하-ㅣ가-힣]\",\"\",regex=True)\n",
    "print(train_data.head())\n",
    "\n",
    "okt = Okt()\n",
    "# word2vec 형태소 분석 -> 글자안에 글자  \n",
    "# 글자간의 벡터화를 해서 글자간의 관계를 형성\n",
    "# [[]] 리스트 안 리스트 형태\n",
    "\n",
    "tokenized_data = []\n",
    "stopwords=['의','가','이','은','들','는','좀','잘','걍','과','도','를','으로','자','에','와','한','하다']\n",
    "\n",
    "for sent in train_data['document']:\n",
    "    temp_x = okt.morphs(sent, stem=True)\n",
    "    temp_x = [word for word in temp_x if not word in stopwords]\n",
    "    tokenized_data.append(temp_x)"
   ]
  },
  {
   "cell_type": "code",
   "execution_count": 1,
   "metadata": {},
   "outputs": [
    {
     "ename": "NameError",
     "evalue": "name 'tokenized_data' is not defined",
     "output_type": "error",
     "traceback": [
      "\u001b[1;31m---------------------------------------------------------------------------\u001b[0m",
      "\u001b[1;31mNameError\u001b[0m                                 Traceback (most recent call last)",
      "\u001b[1;32mc:\\pydata\\11.deep\\d0718\\d0718_02.ipynb 셀 2\u001b[0m in \u001b[0;36m<cell line: 1>\u001b[1;34m()\u001b[0m\n\u001b[1;32m----> <a href='vscode-notebook-cell:/c%3A/pydata/11.deep/d0718/d0718_02.ipynb#ch0000001?line=0'>1</a>\u001b[0m \u001b[39mprint\u001b[39m(tokenized_data)\n",
      "\u001b[1;31mNameError\u001b[0m: name 'tokenized_data' is not defined"
     ]
    }
   ],
   "source": [
    "print(tokenized_data)"
   ]
  }
 ],
 "metadata": {
  "kernelspec": {
   "display_name": "Python 3.10.2 64-bit",
   "language": "python",
   "name": "python3"
  },
  "language_info": {
   "codemirror_mode": {
    "name": "ipython",
    "version": 3
   },
   "file_extension": ".py",
   "mimetype": "text/x-python",
   "name": "python",
   "nbconvert_exporter": "python",
   "pygments_lexer": "ipython3",
   "version": "3.10.2"
  },
  "orig_nbformat": 4,
  "vscode": {
   "interpreter": {
    "hash": "369f2c481f4da34e4445cda3fffd2e751bd1c4d706f27375911949ba6bb62e1c"
   }
  }
 },
 "nbformat": 4,
 "nbformat_minor": 2
}
