{
 "cells": [
  {
   "cell_type": "code",
   "execution_count": 15,
   "metadata": {},
   "outputs": [],
   "source": [
    "import numpy as np\n",
    "import pandas as pd\n",
    "import matplotlib.pyplot as plt\n",
    "import matplotlib\n",
    "from sklearn.model_selection import train_test_split \n",
    "from tensorflow import keras\n",
    "from tensorflow.keras.datasets import imdb\n",
    "from tensorflow.keras.preprocessing.sequence import pad_sequences\n",
    "\n",
    "matplotlib.rcParams['axes.unicode_minus']=False\n",
    "\n",
    "(train_data, train_label),(test_data, test_label) = imdb.load_data(num_words=500)\n",
    "\n",
    "# print(train_data.shape, test_data.shape)\n",
    "# print(train_data[0])\n",
    "# print(len(train_data[0]))\n",
    "# print(train_label)\n",
    "# print(np.unique(train_label))"
   ]
  },
  {
   "cell_type": "code",
   "execution_count": 16,
   "metadata": {},
   "outputs": [],
   "source": [
    "sub_data, val_data, sub_label, val_label = train_test_split(train_data, train_label, random_state=42)\n",
    "train_seq = pad_sequences(sub_data, maxlen=100)\n",
    "test_seq = pad_sequences(val_data, maxlen=100)"
   ]
  },
  {
   "cell_type": "code",
   "execution_count": 17,
   "metadata": {},
   "outputs": [],
   "source": [
    "# print(len(sub_data[0]))\n",
    "# print(len(sub_data[5]))\n",
    "# print(len(sub_data[100]))\n",
    "# print(len(train_seq[0]))\n",
    "# print(len(train_seq[5]))\n",
    "# print(len(train_seq[100]))\n",
    "# print((train_seq[1]))\n"
   ]
  },
  {
   "cell_type": "code",
   "execution_count": 18,
   "metadata": {},
   "outputs": [],
   "source": [
    "# train_oh = keras.utils.to_categorical(train_seq)\n",
    "# test_oh = keras.utils.to_categorical(test_seq)\n",
    "# print(train_oh[0][0][:12])\n",
    "# print(np.sum(train_oh[0][0]))"
   ]
  },
  {
   "cell_type": "code",
   "execution_count": null,
   "metadata": {},
   "outputs": [],
   "source": []
  },
  {
   "cell_type": "code",
   "execution_count": 19,
   "metadata": {},
   "outputs": [
    {
     "name": "stdout",
     "output_type": "stream",
     "text": [
      "Model: \"sequential_2\"\n",
      "_________________________________________________________________\n",
      " Layer (type)                Output Shape              Param #   \n",
      "=================================================================\n",
      " embedding_2 (Embedding)     (None, 100, 16)           8000      \n",
      "                                                                 \n",
      " lstm_2 (LSTM)               (None, 8)                 800       \n",
      "                                                                 \n",
      " dense_2 (Dense)             (None, 1)                 9         \n",
      "                                                                 \n",
      "=================================================================\n",
      "Total params: 8,809\n",
      "Trainable params: 8,809\n",
      "Non-trainable params: 0\n",
      "_________________________________________________________________\n"
     ]
    }
   ],
   "source": [
    "\n",
    "\n",
    "\n",
    "# 4. 딥러닝 선언 \n",
    "model = keras.Sequential()\n",
    "model.add(keras.layers.Embedding(500,16,input_length=100))\n",
    "# model.add(keras.layers.GRU(8))\n",
    "model.add(keras.layers.LSTM(8,dropout=0.3, return_sequences=True))\n",
    "model.add(keras.layers.LSTM(8,dropout=0.3))\n",
    "model.add(keras.layers.Dense(1,activation='sigmoid'))\n",
    "model.summary()\n",
    "\n",
    "\n",
    "# 5. 딥러닝 훈련 \n",
    "rmsprop = keras.optimizers.RMSprop(learning_rate=1e-4)\n",
    "# model.compile(optimizer=rmsprop, loss='binary_crossentropy', metrics='accuracy')\n",
    "model.compile(optimizer='adam', loss='binary_crossentropy', metrics='accuracy')"
   ]
  },
  {
   "cell_type": "code",
   "execution_count": 20,
   "metadata": {},
   "outputs": [
    {
     "name": "stdout",
     "output_type": "stream",
     "text": [
      "Epoch 1/100\n",
      "293/293 [==============================] - 7s 20ms/step - loss: 0.5902 - accuracy: 0.6780 - val_loss: 0.4805 - val_accuracy: 0.7741\n",
      "Epoch 2/100\n",
      "293/293 [==============================] - 5s 19ms/step - loss: 0.4595 - accuracy: 0.7887 - val_loss: 0.4522 - val_accuracy: 0.7926\n",
      "Epoch 3/100\n",
      "293/293 [==============================] - 5s 18ms/step - loss: 0.4332 - accuracy: 0.8034 - val_loss: 0.4690 - val_accuracy: 0.7792\n",
      "Epoch 4/100\n",
      "293/293 [==============================] - 5s 18ms/step - loss: 0.4188 - accuracy: 0.8102 - val_loss: 0.4453 - val_accuracy: 0.7875\n",
      "Epoch 5/100\n",
      "293/293 [==============================] - 5s 19ms/step - loss: 0.4129 - accuracy: 0.8124 - val_loss: 0.4311 - val_accuracy: 0.7968\n",
      "Epoch 6/100\n",
      "293/293 [==============================] - 5s 18ms/step - loss: 0.4083 - accuracy: 0.8148 - val_loss: 0.4403 - val_accuracy: 0.7893\n",
      "Epoch 7/100\n",
      "259/293 [=========================>....] - ETA: 0s - loss: 0.4033 - accuracy: 0.8139"
     ]
    }
   ],
   "source": [
    "\n",
    "# 콜백 \n",
    "checkpoint_cb = keras.callbacks.ModelCheckpoint('best-rnn.h5',save_best_only=True)\n",
    "early_stopping_cb =  keras.callbacks.EarlyStopping(patience=3, restore_best_weights=True)\n",
    "\n",
    "\n",
    "# history = model.fit(train_data,train_label, epochs=20)\n",
    "history = model.fit(train_seq,sub_label, epochs=100, batch_size=64,validation_data=(test_seq, val_label), callbacks=[checkpoint_cb, early_stopping_cb])\n",
    "\n",
    "print(early_stopping_cb.stopped_epoch)\n",
    "\n",
    "\n",
    "\n",
    "score = model.evaluate(test_seq, val_label)\n",
    "\n",
    "plt.plot(history.history['loss'])\n",
    "plt.plot(history.history['val_loss'])\n",
    "plt.legend(['sub','val'])\n",
    "plt.show()\n",
    "\n"
   ]
  },
  {
   "cell_type": "code",
   "execution_count": null,
   "metadata": {},
   "outputs": [
    {
     "data": {
      "text/plain": [
       "[0.42659100890159607, 0.7972800135612488]"
      ]
     },
     "execution_count": 13,
     "metadata": {},
     "output_type": "execute_result"
    }
   ],
   "source": [
    "score"
   ]
  }
 ],
 "metadata": {
  "kernelspec": {
   "display_name": "Python 3.10.2 64-bit",
   "language": "python",
   "name": "python3"
  },
  "language_info": {
   "codemirror_mode": {
    "name": "ipython",
    "version": 3
   },
   "file_extension": ".py",
   "mimetype": "text/x-python",
   "name": "python",
   "nbconvert_exporter": "python",
   "pygments_lexer": "ipython3",
   "version": "3.10.2"
  },
  "orig_nbformat": 4,
  "vscode": {
   "interpreter": {
    "hash": "369f2c481f4da34e4445cda3fffd2e751bd1c4d706f27375911949ba6bb62e1c"
   }
  }
 },
 "nbformat": 4,
 "nbformat_minor": 2
}
