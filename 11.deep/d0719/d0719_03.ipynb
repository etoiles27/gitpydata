{
 "cells": [
  {
   "cell_type": "code",
   "execution_count": 2,
   "metadata": {},
   "outputs": [],
   "source": [
    "import numpy as np\n",
    "import pandas as pd\n",
    "import matplotlib.pyplot as plt\n",
    "from sklearn.model_selection import train_test_split \n",
    "from tensorflow import keras\n",
    "import matplotlib\n",
    "import urllib.request\n",
    "matplotlib.rcParams['axes.unicode_minus']=False\n",
    "\n",
    "\n",
    "\n",
    "\n",
    "(train_data, train_label), (test_data, test_label) = keras.datasets.fashion_mnist.load_data()"
   ]
  },
  {
   "cell_type": "code",
   "execution_count": 3,
   "metadata": {},
   "outputs": [
    {
     "data": {
      "text/plain": [
       "((60000, 28, 28), (10000, 28, 28))"
      ]
     },
     "execution_count": 3,
     "metadata": {},
     "output_type": "execute_result"
    }
   ],
   "source": [
    "train_data.shape , test_data.shape"
   ]
  },
  {
   "cell_type": "code",
   "execution_count": 4,
   "metadata": {},
   "outputs": [],
   "source": [
    "\n",
    "train_scaled = train_data.reshape(-1,28,28,1)/255.0\n",
    "test_scaled =  test_data.reshape(-1,28,28,1)/255.0"
   ]
  },
  {
   "cell_type": "code",
   "execution_count": 5,
   "metadata": {},
   "outputs": [
    {
     "data": {
      "text/plain": [
       "((60000, 28, 28, 1), (10000, 28, 28, 1))"
      ]
     },
     "execution_count": 5,
     "metadata": {},
     "output_type": "execute_result"
    }
   ],
   "source": [
    "train_scaled.shape , test_scaled.shape"
   ]
  },
  {
   "cell_type": "code",
   "execution_count": 6,
   "metadata": {},
   "outputs": [],
   "source": [
    "sub_data, val_data, sub_label, val_label = train_test_split(train_scaled, train_label)"
   ]
  },
  {
   "cell_type": "code",
   "execution_count": 7,
   "metadata": {},
   "outputs": [
    {
     "data": {
      "text/plain": [
       "((45000, 28, 28, 1), (15000, 28, 28, 1))"
      ]
     },
     "execution_count": 7,
     "metadata": {},
     "output_type": "execute_result"
    }
   ],
   "source": [
    "sub_data.shape, val_data.shape"
   ]
  },
  {
   "cell_type": "code",
   "execution_count": 8,
   "metadata": {},
   "outputs": [
    {
     "name": "stdout",
     "output_type": "stream",
     "text": [
      "Model: \"sequential\"\n",
      "_________________________________________________________________\n",
      " Layer (type)                Output Shape              Param #   \n",
      "=================================================================\n",
      " conv2d (Conv2D)             (None, 28, 28, 32)        320       \n",
      "                                                                 \n",
      " max_pooling2d (MaxPooling2D  (None, 14, 14, 32)       0         \n",
      " )                                                               \n",
      "                                                                 \n",
      " conv2d_1 (Conv2D)           (None, 14, 14, 64)        18496     \n",
      "                                                                 \n",
      " max_pooling2d_1 (MaxPooling  (None, 7, 7, 64)         0         \n",
      " 2D)                                                             \n",
      "                                                                 \n",
      " flatten (Flatten)           (None, 3136)              0         \n",
      "                                                                 \n",
      " dense (Dense)               (None, 100)               313700    \n",
      "                                                                 \n",
      " dropout (Dropout)           (None, 100)               0         \n",
      "                                                                 \n",
      " dense_1 (Dense)             (None, 10)                1010      \n",
      "                                                                 \n",
      "=================================================================\n",
      "Total params: 333,526\n",
      "Trainable params: 333,526\n",
      "Non-trainable params: 0\n",
      "_________________________________________________________________\n"
     ]
    }
   ],
   "source": [
    "\n",
    "model = keras.Sequential()\n",
    "model.add(keras.layers.Conv2D(32,kernel_size=3, activation='relu',  padding='same', input_shape=(28,28,1)))\n",
    "model.add(keras.layers.MaxPooling2D(2))\n",
    "model.add(keras.layers.Conv2D(64, kernel_size=(3,3), activation='relu', padding='same'))\n",
    "model.add(keras.layers.MaxPooling2D(2))\n",
    "\n",
    "model.add(keras.layers.Flatten())\n",
    "model.add(keras.layers.Dense(100, activation='relu'))\n",
    "model.add(keras.layers.Dropout(0.4))\n",
    "model.add(keras.layers.Dense(10, activation='softmax'))\n",
    "model.summary()"
   ]
  },
  {
   "cell_type": "code",
   "execution_count": 9,
   "metadata": {},
   "outputs": [
    {
     "data": {
      "image/png": "[encoded data removed]",
      "text/plain": [
       "<IPython.core.display.Image object>"
      ]
     },
     "execution_count": 9,
     "metadata": {},
     "output_type": "execute_result"
    }
   ],
   "source": [
    "from tensorflow.keras.utils import plot_model\n",
    "keras.utils.plot_model(model)"
   ]
  },
  {
   "cell_type": "code",
   "execution_count": 10,
   "metadata": {},
   "outputs": [],
   "source": [
    "model.compile(optimizer='adam', loss='sparse_categorical_crossentropy', metrics='accuracy')\n"
   ]
  },
  {
   "cell_type": "code",
   "execution_count": 11,
   "metadata": {},
   "outputs": [],
   "source": [
    "checkpoint_cb = keras.callbacks.ModelCheckpoint('best-cnn-model.h5')\n",
    "early_stopping_cb = keras.callbacks.EarlyStopping(patience=2, restore_best_weights=True)\n"
   ]
  },
  {
   "cell_type": "code",
   "execution_count": 12,
   "metadata": {},
   "outputs": [
    {
     "name": "stdout",
     "output_type": "stream",
     "text": [
      "Epoch 1/20\n",
      "1407/1407 [==============================] - 18s 12ms/step - loss: 0.5288 - accuracy: 0.8113 - val_loss: 0.3333 - val_accuracy: 0.8820\n",
      "Epoch 2/20\n",
      "1407/1407 [==============================] - 17s 12ms/step - loss: 0.3532 - accuracy: 0.8750 - val_loss: 0.3007 - val_accuracy: 0.8917\n",
      "Epoch 3/20\n",
      "1407/1407 [==============================] - 17s 12ms/step - loss: 0.3028 - accuracy: 0.8910 - val_loss: 0.2772 - val_accuracy: 0.8995\n",
      "Epoch 4/20\n",
      "1407/1407 [==============================] - 17s 12ms/step - loss: 0.2675 - accuracy: 0.9023 - val_loss: 0.2486 - val_accuracy: 0.9125\n",
      "Epoch 5/20\n",
      "1407/1407 [==============================] - 17s 12ms/step - loss: 0.2430 - accuracy: 0.9108 - val_loss: 0.2485 - val_accuracy: 0.9122\n",
      "Epoch 6/20\n",
      "1407/1407 [==============================] - 17s 12ms/step - loss: 0.2241 - accuracy: 0.9170 - val_loss: 0.2610 - val_accuracy: 0.9076\n",
      "Epoch 7/20\n",
      "1407/1407 [==============================] - 17s 12ms/step - loss: 0.2073 - accuracy: 0.9236 - val_loss: 0.2458 - val_accuracy: 0.9121\n",
      "Epoch 8/20\n",
      "1407/1407 [==============================] - 17s 12ms/step - loss: 0.1914 - accuracy: 0.9290 - val_loss: 0.2487 - val_accuracy: 0.9173\n",
      "Epoch 9/20\n",
      "1407/1407 [==============================] - 17s 12ms/step - loss: 0.1791 - accuracy: 0.9337 - val_loss: 0.2438 - val_accuracy: 0.9182\n",
      "Epoch 10/20\n",
      "1407/1407 [==============================] - 17s 12ms/step - loss: 0.1650 - accuracy: 0.9379 - val_loss: 0.2515 - val_accuracy: 0.9192\n",
      "Epoch 11/20\n",
      "1407/1407 [==============================] - 17s 12ms/step - loss: 0.1534 - accuracy: 0.9427 - val_loss: 0.2424 - val_accuracy: 0.9198\n",
      "Epoch 12/20\n",
      "1407/1407 [==============================] - 17s 12ms/step - loss: 0.1444 - accuracy: 0.9459 - val_loss: 0.2419 - val_accuracy: 0.9192\n",
      "Epoch 13/20\n",
      "1407/1407 [==============================] - 17s 12ms/step - loss: 0.1353 - accuracy: 0.9478 - val_loss: 0.2589 - val_accuracy: 0.9197\n",
      "Epoch 14/20\n",
      "1407/1407 [==============================] - 17s 12ms/step - loss: 0.1277 - accuracy: 0.9517 - val_loss: 0.2829 - val_accuracy: 0.9177\n"
     ]
    }
   ],
   "source": [
    "history = model.fit(sub_data, sub_label, epochs=20, validation_data=(val_data, val_label), callbacks=[checkpoint_cb, early_stopping_cb])"
   ]
  },
  {
   "cell_type": "code",
   "execution_count": 13,
   "metadata": {},
   "outputs": [
    {
     "name": "stdout",
     "output_type": "stream",
     "text": [
      "13\n",
      "469/469 [==============================] - 2s 4ms/step - loss: 0.2419 - accuracy: 0.9192\n"
     ]
    },
    {
     "data": {
      "image/png": "[encoded data removed]",
      "text/plain": [
       "<Figure size 432x288 with 1 Axes>"
      ]
     },
     "metadata": {
      "needs_background": "light"
     },
     "output_type": "display_data"
    }
   ],
   "source": [
    "print(early_stopping_cb.stopped_epoch)\n",
    "\n",
    "\n",
    "\n",
    "score = model.evaluate(val_data, val_label)\n",
    "\n",
    "plt.plot(history.history['loss'])\n",
    "plt.plot(history.history['val_loss'])\n",
    "plt.legend(['sub','val'])\n",
    "plt.show()"
   ]
  },
  {
   "cell_type": "code",
   "execution_count": 14,
   "metadata": {},
   "outputs": [
    {
     "name": "stdout",
     "output_type": "stream",
     "text": [
      "469/469 [==============================] - 2s 3ms/step - loss: 0.2419 - accuracy: 0.9192\n"
     ]
    },
    {
     "data": {
      "image/png": "[encoded data removed]",
      "text/plain": [
       "<Figure size 432x288 with 1 Axes>"
      ]
     },
     "metadata": {
      "needs_background": "light"
     },
     "output_type": "display_data"
    },
    {
     "name": "stdout",
     "output_type": "stream",
     "text": [
      "1/1 [==============================] - 0s 74ms/step\n",
      "[[1.6847222e-11 2.5536715e-19 6.7272167e-16 1.3420455e-19 1.5723130e-17\n",
      "  9.1687113e-01 2.6944563e-13 3.5839712e-12 2.3359990e-12 8.3128884e-02]]\n"
     ]
    }
   ],
   "source": [
    "model.evaluate(val_data, val_label)\n",
    "\n",
    "plt.imshow(val_data[0].reshape(28, 28), cmap='gray_r')\n",
    "plt.show()\n",
    "preds = model.predict(val_data[0:1])\n",
    "print(preds)"
   ]
  },
  {
   "cell_type": "code",
   "execution_count": 15,
   "metadata": {},
   "outputs": [
    {
     "data": {
      "image/png": "[encoded data removed]",
      "text/plain": [
       "<Figure size 432x288 with 1 Axes>"
      ]
     },
     "metadata": {
      "needs_background": "light"
     },
     "output_type": "display_data"
    }
   ],
   "source": [
    "plt.bar(range(1,11),preds[0])\n",
    "plt.show()"
   ]
  },
  {
   "cell_type": "code",
   "execution_count": 16,
   "metadata": {},
   "outputs": [],
   "source": [
    "classes = ['티셔츠','바지','스웨터','드레스','코트','샌달','셔츠','스니커즈','가방','앵클부츠']\n"
   ]
  },
  {
   "cell_type": "code",
   "execution_count": 17,
   "metadata": {},
   "outputs": [
    {
     "data": {
      "text/plain": [
       "'샌달'"
      ]
     },
     "execution_count": 17,
     "metadata": {},
     "output_type": "execute_result"
    }
   ],
   "source": [
    "classes[np.argmax(preds)]"
   ]
  }
 ],
 "metadata": {
  "kernelspec": {
   "display_name": "Python 3.10.2 64-bit",
   "language": "python",
   "name": "python3"
  },
  "language_info": {
   "codemirror_mode": {
    "name": "ipython",
    "version": 3
   },
   "file_extension": ".py",
   "mimetype": "text/x-python",
   "name": "python",
   "nbconvert_exporter": "python",
   "pygments_lexer": "ipython3",
   "version": "3.10.2"
  },
  "orig_nbformat": 4,
  "vscode": {
   "interpreter": {
    "hash": "369f2c481f4da34e4445cda3fffd2e751bd1c4d706f27375911949ba6bb62e1c"
   }
  }
 },
 "nbformat": 4,
 "nbformat_minor": 2
}
